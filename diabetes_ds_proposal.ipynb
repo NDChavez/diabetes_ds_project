{
 "cells": [
  {
   "cell_type": "markdown",
   "id": "bc63cf5d-1ad0-4830-bc4e-63ac5f2fd1bd",
   "metadata": {},
   "source": [
    "Diabetes - Group Project Proposal\n",
    "\n",
    "By: Nikki De Chavez, Maddie Lilly, Vincent Wang, Zhitong Zou"
   ]
  },
  {
   "cell_type": "code",
   "execution_count": null,
   "id": "2ada9bfe-94a0-4b45-ae00-4f218513eab6",
   "metadata": {},
   "outputs": [],
   "source": []
  }
 ],
 "metadata": {
  "kernelspec": {
   "display_name": "R",
   "language": "R",
   "name": "ir"
  },
  "language_info": {
   "codemirror_mode": "r",
   "file_extension": ".r",
   "mimetype": "text/x-r-source",
   "name": "R",
   "pygments_lexer": "r",
   "version": "4.1.3"
  }
 },
 "nbformat": 4,
 "nbformat_minor": 5
}
